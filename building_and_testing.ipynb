{
 "cells": [
  {
   "cell_type": "code",
   "execution_count": 22,
   "metadata": {},
   "outputs": [],
   "source": [
    "import yfinance as yf\n",
    "import pandas as pd"
   ]
  },
  {
   "cell_type": "markdown",
   "metadata": {},
   "source": [
    "## Get data with ticker "
   ]
  },
  {
   "cell_type": "code",
   "execution_count": 6,
   "metadata": {},
   "outputs": [],
   "source": [
    "Ticker_Name = '^GSPC'\n",
    "sp500 = yf.Ticker(Ticker_Name)\n",
    "sp500_df = sp500.history(period=\"max\")\n",
    "del sp500_df['Dividends']\n",
    "del sp500_df['Stock Splits']\n",
    "\n"
   ]
  },
  {
   "cell_type": "markdown",
   "metadata": {},
   "source": [
    "## Ploting and info"
   ]
  },
  {
   "cell_type": "code",
   "execution_count": 17,
   "metadata": {},
   "outputs": [
    {
     "data": {
      "text/plain": [
       "{'maxAge': 86400,\n",
       " 'priceHint': 2,\n",
       " 'previousClose': 5620.85,\n",
       " 'open': 5637.77,\n",
       " 'dayLow': 5560.95,\n",
       " 'dayHigh': 5643.22,\n",
       " 'regularMarketPreviousClose': 5620.85,\n",
       " 'regularMarketOpen': 5637.77,\n",
       " 'regularMarketDayLow': 5560.95,\n",
       " 'regularMarketDayHigh': 5643.22,\n",
       " 'volume': 2194647000,\n",
       " 'regularMarketVolume': 2194647000,\n",
       " 'averageVolume': 3845202741,\n",
       " 'averageVolume10days': 3433956000,\n",
       " 'averageDailyVolume10Day': 3433956000,\n",
       " 'bid': 5524.29,\n",
       " 'ask': 5629.24,\n",
       " 'fiftyTwoWeekLow': 4103.78,\n",
       " 'fiftyTwoWeekHigh': 5669.67,\n",
       " 'fiftyDayAverage': 5479.491,\n",
       " 'twoHundredDayAverage': 5084.828,\n",
       " 'currency': 'USD',\n",
       " 'exchange': 'SNP',\n",
       " 'quoteType': 'INDEX',\n",
       " 'symbol': '^GSPC',\n",
       " 'underlyingSymbol': '^GSPC',\n",
       " 'shortName': 'S&P 500',\n",
       " 'longName': 'S&P 500',\n",
       " 'firstTradeDateEpochUtc': -1325583000,\n",
       " 'timeZoneFullName': 'America/New_York',\n",
       " 'timeZoneShortName': 'EDT',\n",
       " 'uuid': '8ffd55d1-3d1d-3733-a480-56768bc708e6',\n",
       " 'messageBoardId': 'finmb_INDEXGSPC',\n",
       " 'gmtOffSetMilliseconds': -14400000,\n",
       " 'trailingPegRatio': None}"
      ]
     },
     "execution_count": 17,
     "metadata": {},
     "output_type": "execute_result"
    },
    {
     "data": {
      "image/png": "[encoded data removed]",
      "text/plain": [
       "<Figure size 432x288 with 1 Axes>"
      ]
     },
     "metadata": {
      "needs_background": "light"
     },
     "output_type": "display_data"
    }
   ],
   "source": [
    "sp500_df.plot.line(y='Close')\n",
    "sp500.info"
   ]
  },
  {
   "cell_type": "markdown",
   "metadata": {},
   "source": [
    "## Goal for Model\n",
    "The goal for this particular model is just to predict whether the stock will go up or down the next day, not the exact price of the stock.\n",
    "\n",
    "We will do this by determining if tomorrows closing price is bigger that todays closing price"
   ]
  },
  {
   "cell_type": "code",
   "execution_count": 35,
   "metadata": {},
   "outputs": [
    {
     "data": {
      "text/html": [
       "<div>\n",
       "<style scoped>\n",
       "    .dataframe tbody tr th:only-of-type {\n",
       "        vertical-align: middle;\n",
       "    }\n",
       "\n",
       "    .dataframe tbody tr th {\n",
       "        vertical-align: top;\n",
       "    }\n",
       "\n",
       "    .dataframe thead th {\n",
       "        text-align: right;\n",
       "    }\n",
       "</style>\n",
       "<table border=\"1\" class=\"dataframe\">\n",
       "  <thead>\n",
       "    <tr style=\"text-align: right;\">\n",
       "      <th></th>\n",
       "      <th>Open</th>\n",
       "      <th>High</th>\n",
       "      <th>Low</th>\n",
       "      <th>Close</th>\n",
       "      <th>Volume</th>\n",
       "      <th>Tomorrow</th>\n",
       "      <th>Target</th>\n",
       "    </tr>\n",
       "    <tr>\n",
       "      <th>Date</th>\n",
       "      <th></th>\n",
       "      <th></th>\n",
       "      <th></th>\n",
       "      <th></th>\n",
       "      <th></th>\n",
       "      <th></th>\n",
       "      <th></th>\n",
       "    </tr>\n",
       "  </thead>\n",
       "  <tbody>\n",
       "    <tr>\n",
       "      <th>1927-12-30 00:00:00-05:00</th>\n",
       "      <td>17.660000</td>\n",
       "      <td>17.660000</td>\n",
       "      <td>17.660000</td>\n",
       "      <td>17.660000</td>\n",
       "      <td>0</td>\n",
       "      <td>17.760000</td>\n",
       "      <td>1</td>\n",
       "    </tr>\n",
       "    <tr>\n",
       "      <th>1928-01-03 00:00:00-05:00</th>\n",
       "      <td>17.760000</td>\n",
       "      <td>17.760000</td>\n",
       "      <td>17.760000</td>\n",
       "      <td>17.760000</td>\n",
       "      <td>0</td>\n",
       "      <td>17.719999</td>\n",
       "      <td>0</td>\n",
       "    </tr>\n",
       "    <tr>\n",
       "      <th>1928-01-04 00:00:00-05:00</th>\n",
       "      <td>17.719999</td>\n",
       "      <td>17.719999</td>\n",
       "      <td>17.719999</td>\n",
       "      <td>17.719999</td>\n",
       "      <td>0</td>\n",
       "      <td>17.549999</td>\n",
       "      <td>0</td>\n",
       "    </tr>\n",
       "    <tr>\n",
       "      <th>1928-01-05 00:00:00-05:00</th>\n",
       "      <td>17.549999</td>\n",
       "      <td>17.549999</td>\n",
       "      <td>17.549999</td>\n",
       "      <td>17.549999</td>\n",
       "      <td>0</td>\n",
       "      <td>17.660000</td>\n",
       "      <td>1</td>\n",
       "    </tr>\n",
       "    <tr>\n",
       "      <th>1928-01-06 00:00:00-05:00</th>\n",
       "      <td>17.660000</td>\n",
       "      <td>17.660000</td>\n",
       "      <td>17.660000</td>\n",
       "      <td>17.660000</td>\n",
       "      <td>0</td>\n",
       "      <td>17.500000</td>\n",
       "      <td>0</td>\n",
       "    </tr>\n",
       "    <tr>\n",
       "      <th>...</th>\n",
       "      <td>...</td>\n",
       "      <td>...</td>\n",
       "      <td>...</td>\n",
       "      <td>...</td>\n",
       "      <td>...</td>\n",
       "      <td>...</td>\n",
       "      <td>...</td>\n",
       "    </tr>\n",
       "    <tr>\n",
       "      <th>2024-08-16 00:00:00-04:00</th>\n",
       "      <td>5530.500000</td>\n",
       "      <td>5561.979980</td>\n",
       "      <td>5525.169922</td>\n",
       "      <td>5554.250000</td>\n",
       "      <td>3357690000</td>\n",
       "      <td>5608.250000</td>\n",
       "      <td>1</td>\n",
       "    </tr>\n",
       "    <tr>\n",
       "      <th>2024-08-19 00:00:00-04:00</th>\n",
       "      <td>5557.229980</td>\n",
       "      <td>5608.299805</td>\n",
       "      <td>5550.740234</td>\n",
       "      <td>5608.250000</td>\n",
       "      <td>3222050000</td>\n",
       "      <td>5597.120117</td>\n",
       "      <td>0</td>\n",
       "    </tr>\n",
       "    <tr>\n",
       "      <th>2024-08-20 00:00:00-04:00</th>\n",
       "      <td>5602.879883</td>\n",
       "      <td>5620.509766</td>\n",
       "      <td>5585.500000</td>\n",
       "      <td>5597.120117</td>\n",
       "      <td>2994420000</td>\n",
       "      <td>5620.850098</td>\n",
       "      <td>1</td>\n",
       "    </tr>\n",
       "    <tr>\n",
       "      <th>2024-08-21 00:00:00-04:00</th>\n",
       "      <td>5603.089844</td>\n",
       "      <td>5632.680176</td>\n",
       "      <td>5591.569824</td>\n",
       "      <td>5620.850098</td>\n",
       "      <td>3119670000</td>\n",
       "      <td>5570.640137</td>\n",
       "      <td>0</td>\n",
       "    </tr>\n",
       "    <tr>\n",
       "      <th>2024-08-22 00:00:00-04:00</th>\n",
       "      <td>5637.770020</td>\n",
       "      <td>5643.220215</td>\n",
       "      <td>5560.950195</td>\n",
       "      <td>5570.640137</td>\n",
       "      <td>2194647000</td>\n",
       "      <td>NaN</td>\n",
       "      <td>0</td>\n",
       "    </tr>\n",
       "  </tbody>\n",
       "</table>\n",
       "<p>24277 rows × 7 columns</p>\n",
       "</div>"
      ],
      "text/plain": [
       "                                  Open         High          Low        Close  \\\n",
       "Date                                                                            \n",
       "1927-12-30 00:00:00-05:00    17.660000    17.660000    17.660000    17.660000   \n",
       "1928-01-03 00:00:00-05:00    17.760000    17.760000    17.760000    17.760000   \n",
       "1928-01-04 00:00:00-05:00    17.719999    17.719999    17.719999    17.719999   \n",
       "1928-01-05 00:00:00-05:00    17.549999    17.549999    17.549999    17.549999   \n",
       "1928-01-06 00:00:00-05:00    17.660000    17.660000    17.660000    17.660000   \n",
       "...                                ...          ...          ...          ...   \n",
       "2024-08-16 00:00:00-04:00  5530.500000  5561.979980  5525.169922  5554.250000   \n",
       "2024-08-19 00:00:00-04:00  5557.229980  5608.299805  5550.740234  5608.250000   \n",
       "2024-08-20 00:00:00-04:00  5602.879883  5620.509766  5585.500000  5597.120117   \n",
       "2024-08-21 00:00:00-04:00  5603.089844  5632.680176  5591.569824  5620.850098   \n",
       "2024-08-22 00:00:00-04:00  5637.770020  5643.220215  5560.950195  5570.640137   \n",
       "\n",
       "                               Volume     Tomorrow  Target  \n",
       "Date                                                        \n",
       "1927-12-30 00:00:00-05:00           0    17.760000       1  \n",
       "1928-01-03 00:00:00-05:00           0    17.719999       0  \n",
       "1928-01-04 00:00:00-05:00           0    17.549999       0  \n",
       "1928-01-05 00:00:00-05:00           0    17.660000       1  \n",
       "1928-01-06 00:00:00-05:00           0    17.500000       0  \n",
       "...                               ...          ...     ...  \n",
       "2024-08-16 00:00:00-04:00  3357690000  5608.250000       1  \n",
       "2024-08-19 00:00:00-04:00  3222050000  5597.120117       0  \n",
       "2024-08-20 00:00:00-04:00  2994420000  5620.850098       1  \n",
       "2024-08-21 00:00:00-04:00  3119670000  5570.640137       0  \n",
       "2024-08-22 00:00:00-04:00  2194647000          NaN       0  \n",
       "\n",
       "[24277 rows x 7 columns]"
      ]
     },
     "metadata": {},
     "output_type": "display_data"
    }
   ],
   "source": [
    "sp500_df['Tomorrow'] = sp500_df['Close'].shift(-1)\n",
    "sp500_df['Target'] = (sp500_df['Tomorrow'] > sp500_df['Close']).astype(int)\n",
    "display(sp500_df)"
   ]
  },
  {
   "cell_type": "markdown",
   "metadata": {},
   "source": [
    "Remove data that came before 1990"
   ]
  },
  {
   "cell_type": "code",
   "execution_count": null,
   "metadata": {},
   "outputs": [],
   "source": []
  }
 ],
 "metadata": {
  "kernelspec": {
   "display_name": "Python 3",
   "language": "python",
   "name": "python3"
  },
  "language_info": {
   "codemirror_mode": {
    "name": "ipython",
    "version": 3
   },
   "file_extension": ".py",
   "mimetype": "text/x-python",
   "name": "python",
   "nbconvert_exporter": "python",
   "pygments_lexer": "ipython3",
   "version": "3.9.1"
  }
 },
 "nbformat": 4,
 "nbformat_minor": 2
}
